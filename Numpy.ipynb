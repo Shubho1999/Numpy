{
 "cells": [
  {
   "cell_type": "code",
   "execution_count": 1,
   "metadata": {},
   "outputs": [
    {
     "name": "stdout",
     "output_type": "stream",
     "text": [
      "Hello\n"
     ]
    }
   ],
   "source": [
    "print(\"Hello\")"
   ]
  },
  {
   "cell_type": "markdown",
   "metadata": {},
   "source": [
    "# Numpy"
   ]
  },
  {
   "cell_type": "markdown",
   "metadata": {},
   "source": [
    "## 1.Creating Numpy Arrays "
   ]
  },
  {
   "cell_type": "code",
   "execution_count": 2,
   "metadata": {},
   "outputs": [],
   "source": [
    "import numpy as np"
   ]
  },
  {
   "cell_type": "code",
   "execution_count": 10,
   "metadata": {},
   "outputs": [],
   "source": [
    "L=[1,2,3]"
   ]
  },
  {
   "cell_type": "code",
   "execution_count": 11,
   "metadata": {},
   "outputs": [],
   "source": [
    "L1=[1,True,\"Hello\"]"
   ]
  },
  {
   "cell_type": "code",
   "execution_count": 12,
   "metadata": {},
   "outputs": [
    {
     "data": {
      "text/plain": [
       "list"
      ]
     },
     "execution_count": 12,
     "metadata": {},
     "output_type": "execute_result"
    }
   ],
   "source": [
    "type(L1)"
   ]
  },
  {
   "cell_type": "code",
   "execution_count": 8,
   "metadata": {},
   "outputs": [
    {
     "data": {
      "text/plain": [
       "bool"
      ]
     },
     "execution_count": 8,
     "metadata": {},
     "output_type": "execute_result"
    }
   ],
   "source": [
    "type(True)"
   ]
  },
  {
   "cell_type": "code",
   "execution_count": 13,
   "metadata": {},
   "outputs": [
    {
     "data": {
      "text/plain": [
       "array([1, 2, 3, 4, 5])"
      ]
     },
     "execution_count": 13,
     "metadata": {},
     "output_type": "execute_result"
    }
   ],
   "source": [
    "# a. Using np.array()\n",
    "\n",
    "arr1=np.array([1,2,3,4,5])\n",
    "arr1"
   ]
  },
  {
   "cell_type": "code",
   "execution_count": 14,
   "metadata": {},
   "outputs": [
    {
     "data": {
      "text/plain": [
       "array([[1, 2, 3],\n",
       "       [4, 5, 6]])"
      ]
     },
     "execution_count": 14,
     "metadata": {},
     "output_type": "execute_result"
    }
   ],
   "source": [
    "arr2=np.array([[1,2,3],[4,5,6]])\n",
    "arr2"
   ]
  },
  {
   "cell_type": "code",
   "execution_count": 16,
   "metadata": {},
   "outputs": [
    {
     "data": {
      "text/plain": [
       "array([[[1, 2],\n",
       "        [3, 4]],\n",
       "\n",
       "       [[5, 6],\n",
       "        [7, 8]]])"
      ]
     },
     "execution_count": 16,
     "metadata": {},
     "output_type": "execute_result"
    }
   ],
   "source": [
    "arr3=np.array([[[1,2],[3,4]],[[5,6],[7,8]]])\n",
    "arr3"
   ]
  },
  {
   "cell_type": "code",
   "execution_count": 17,
   "metadata": {},
   "outputs": [
    {
     "data": {
      "text/plain": [
       "array([[0., 0., 0.],\n",
       "       [0., 0., 0.]])"
      ]
     },
     "execution_count": 17,
     "metadata": {},
     "output_type": "execute_result"
    }
   ],
   "source": [
    "arr4=np.zeros((2,3))\n",
    "arr4"
   ]
  },
  {
   "cell_type": "code",
   "execution_count": 18,
   "metadata": {},
   "outputs": [
    {
     "data": {
      "text/plain": [
       "array([[1., 1., 1.],\n",
       "       [1., 1., 1.]])"
      ]
     },
     "execution_count": 18,
     "metadata": {},
     "output_type": "execute_result"
    }
   ],
   "source": [
    "arr5=np.ones((2,3))\n",
    "arr5"
   ]
  },
  {
   "cell_type": "code",
   "execution_count": 20,
   "metadata": {},
   "outputs": [
    {
     "data": {
      "text/plain": [
       "array([1, 3, 5, 7, 9])"
      ]
     },
     "execution_count": 20,
     "metadata": {},
     "output_type": "execute_result"
    }
   ],
   "source": [
    "arr6=np.arange(1,10,2)\n",
    "arr6"
   ]
  },
  {
   "cell_type": "code",
   "execution_count": 21,
   "metadata": {},
   "outputs": [
    {
     "data": {
      "text/plain": [
       "array([[0.7226472 , 0.77705813, 0.45177143],\n",
       "       [0.39693435, 0.28315842, 0.29309821]])"
      ]
     },
     "execution_count": 21,
     "metadata": {},
     "output_type": "execute_result"
    }
   ],
   "source": [
    "np.random.random((2,3))"
   ]
  },
  {
   "cell_type": "code",
   "execution_count": 22,
   "metadata": {},
   "outputs": [
    {
     "data": {
      "text/plain": [
       "array([-10.        ,  -7.77777778,  -5.55555556,  -3.33333333,\n",
       "        -1.11111111,   1.11111111,   3.33333333,   5.55555556,\n",
       "         7.77777778,  10.        ])"
      ]
     },
     "execution_count": 22,
     "metadata": {},
     "output_type": "execute_result"
    }
   ],
   "source": [
    "arr7=np.linspace(-10,10,10)\n",
    "arr7"
   ]
  },
  {
   "cell_type": "code",
   "execution_count": 23,
   "metadata": {},
   "outputs": [
    {
     "data": {
      "text/plain": [
       "array([-10.        ,  -7.77777778,  -5.55555556,  -3.33333333,\n",
       "        -1.11111111,   1.11111111,   3.33333333,   5.55555556,\n",
       "         7.77777778,  10.        ])"
      ]
     },
     "execution_count": 23,
     "metadata": {},
     "output_type": "execute_result"
    }
   ],
   "source": [
    "arr8=arr7.copy()\n",
    "arr8"
   ]
  },
  {
   "cell_type": "code",
   "execution_count": 24,
   "metadata": {},
   "outputs": [
    {
     "data": {
      "text/plain": [
       "array([-10.        ,  -7.77777778,  -5.55555556,  -3.33333333,\n",
       "        -1.11111111,   1.11111111,   3.33333333,   5.55555556,\n",
       "         7.77777778,  10.        ])"
      ]
     },
     "execution_count": 24,
     "metadata": {},
     "output_type": "execute_result"
    }
   ],
   "source": [
    "np.copy(arr7)"
   ]
  },
  {
   "cell_type": "code",
   "execution_count": 25,
   "metadata": {},
   "outputs": [
    {
     "data": {
      "text/plain": [
       "array([[1., 0., 0.],\n",
       "       [0., 1., 0.],\n",
       "       [0., 0., 1.]])"
      ]
     },
     "execution_count": 25,
     "metadata": {},
     "output_type": "execute_result"
    }
   ],
   "source": [
    "arr9=np.identity(3)\n",
    "arr9"
   ]
  },
  {
   "cell_type": "markdown",
   "metadata": {},
   "source": [
    "## 2.Properties/Attributes "
   ]
  },
  {
   "cell_type": "code",
   "execution_count": 26,
   "metadata": {},
   "outputs": [
    {
     "data": {
      "text/plain": [
       "(2, 3)"
      ]
     },
     "execution_count": 26,
     "metadata": {},
     "output_type": "execute_result"
    }
   ],
   "source": [
    "arr2.shape"
   ]
  },
  {
   "cell_type": "code",
   "execution_count": 27,
   "metadata": {},
   "outputs": [
    {
     "data": {
      "text/plain": [
       "(2, 2, 2)"
      ]
     },
     "execution_count": 27,
     "metadata": {},
     "output_type": "execute_result"
    }
   ],
   "source": [
    "arr3.shape"
   ]
  },
  {
   "cell_type": "code",
   "execution_count": 28,
   "metadata": {},
   "outputs": [
    {
     "data": {
      "text/plain": [
       "2"
      ]
     },
     "execution_count": 28,
     "metadata": {},
     "output_type": "execute_result"
    }
   ],
   "source": [
    "arr2.ndim"
   ]
  },
  {
   "cell_type": "code",
   "execution_count": 29,
   "metadata": {},
   "outputs": [
    {
     "data": {
      "text/plain": [
       "3"
      ]
     },
     "execution_count": 29,
     "metadata": {},
     "output_type": "execute_result"
    }
   ],
   "source": [
    "arr3.ndim"
   ]
  },
  {
   "cell_type": "code",
   "execution_count": 30,
   "metadata": {},
   "outputs": [
    {
     "data": {
      "text/plain": [
       "8"
      ]
     },
     "execution_count": 30,
     "metadata": {},
     "output_type": "execute_result"
    }
   ],
   "source": [
    "arr3.size"
   ]
  },
  {
   "cell_type": "code",
   "execution_count": 31,
   "metadata": {},
   "outputs": [
    {
     "data": {
      "text/plain": [
       "4"
      ]
     },
     "execution_count": 31,
     "metadata": {},
     "output_type": "execute_result"
    }
   ],
   "source": [
    "arr3.itemsize"
   ]
  },
  {
   "cell_type": "code",
   "execution_count": 32,
   "metadata": {},
   "outputs": [
    {
     "data": {
      "text/plain": [
       "dtype('int32')"
      ]
     },
     "execution_count": 32,
     "metadata": {},
     "output_type": "execute_result"
    }
   ],
   "source": [
    "arr3.dtype"
   ]
  },
  {
   "cell_type": "code",
   "execution_count": 33,
   "metadata": {},
   "outputs": [
    {
     "data": {
      "text/plain": [
       "array([[[1., 2.],\n",
       "        [3., 4.]],\n",
       "\n",
       "       [[5., 6.],\n",
       "        [7., 8.]]])"
      ]
     },
     "execution_count": 33,
     "metadata": {},
     "output_type": "execute_result"
    }
   ],
   "source": [
    "arr3.astype('float')"
   ]
  },
  {
   "cell_type": "markdown",
   "metadata": {},
   "source": [
    "## 3.Arrays vs Lists "
   ]
  },
  {
   "cell_type": "code",
   "execution_count": 35,
   "metadata": {},
   "outputs": [
    {
     "data": {
      "text/plain": [
       "array([ 0,  1,  2,  3,  4,  5,  6,  7,  8,  9, 10, 11, 12, 13, 14, 15, 16,\n",
       "       17, 18, 19, 20, 21, 22, 23, 24, 25, 26, 27, 28, 29, 30, 31, 32, 33,\n",
       "       34, 35, 36, 37, 38, 39, 40, 41, 42, 43, 44, 45, 46, 47, 48, 49, 50,\n",
       "       51, 52, 53, 54, 55, 56, 57, 58, 59, 60, 61, 62, 63, 64, 65, 66, 67,\n",
       "       68, 69, 70, 71, 72, 73, 74, 75, 76, 77, 78, 79, 80, 81, 82, 83, 84,\n",
       "       85, 86, 87, 88, 89, 90, 91, 92, 93, 94, 95, 96, 97, 98, 99])"
      ]
     },
     "execution_count": 35,
     "metadata": {},
     "output_type": "execute_result"
    }
   ],
   "source": [
    "# In terms of memory\n",
    "L=range(0,100)\n",
    "A=np.arange(100)\n",
    "A"
   ]
  },
  {
   "cell_type": "code",
   "execution_count": 36,
   "metadata": {},
   "outputs": [],
   "source": [
    "import sys"
   ]
  },
  {
   "cell_type": "code",
   "execution_count": 37,
   "metadata": {},
   "outputs": [
    {
     "data": {
      "text/plain": [
       "24"
      ]
     },
     "execution_count": 37,
     "metadata": {},
     "output_type": "execute_result"
    }
   ],
   "source": [
    "sys.getsizeof(L[0])"
   ]
  },
  {
   "cell_type": "code",
   "execution_count": 38,
   "metadata": {},
   "outputs": [
    {
     "data": {
      "text/plain": [
       "2400"
      ]
     },
     "execution_count": 38,
     "metadata": {},
     "output_type": "execute_result"
    }
   ],
   "source": [
    "sys.getsizeof(L[0])*len(L)"
   ]
  },
  {
   "cell_type": "code",
   "execution_count": 39,
   "metadata": {},
   "outputs": [
    {
     "data": {
      "text/plain": [
       "100"
      ]
     },
     "execution_count": 39,
     "metadata": {},
     "output_type": "execute_result"
    }
   ],
   "source": [
    "len(L)"
   ]
  },
  {
   "cell_type": "code",
   "execution_count": 41,
   "metadata": {},
   "outputs": [
    {
     "data": {
      "text/plain": [
       "400"
      ]
     },
     "execution_count": 41,
     "metadata": {},
     "output_type": "execute_result"
    }
   ],
   "source": [
    "A.itemsize*A.size"
   ]
  },
  {
   "cell_type": "code",
   "execution_count": 42,
   "metadata": {},
   "outputs": [
    {
     "data": {
      "text/plain": [
       "[100000,\n",
       " 100002,\n",
       " 100004,\n",
       " 100006,\n",
       " 100008,\n",
       " 100010,\n",
       " 100012,\n",
       " 100014,\n",
       " 100016,\n",
       " 100018,\n",
       " 100020,\n",
       " 100022,\n",
       " 100024,\n",
       " 100026,\n",
       " 100028,\n",
       " 100030,\n",
       " 100032,\n",
       " 100034,\n",
       " 100036,\n",
       " 100038,\n",
       " 100040,\n",
       " 100042,\n",
       " 100044,\n",
       " 100046,\n",
       " 100048,\n",
       " 100050,\n",
       " 100052,\n",
       " 100054,\n",
       " 100056,\n",
       " 100058,\n",
       " 100060,\n",
       " 100062,\n",
       " 100064,\n",
       " 100066,\n",
       " 100068,\n",
       " 100070,\n",
       " 100072,\n",
       " 100074,\n",
       " 100076,\n",
       " 100078,\n",
       " 100080,\n",
       " 100082,\n",
       " 100084,\n",
       " 100086,\n",
       " 100088,\n",
       " 100090,\n",
       " 100092,\n",
       " 100094,\n",
       " 100096,\n",
       " 100098,\n",
       " 100100,\n",
       " 100102,\n",
       " 100104,\n",
       " 100106,\n",
       " 100108,\n",
       " 100110,\n",
       " 100112,\n",
       " 100114,\n",
       " 100116,\n",
       " 100118,\n",
       " 100120,\n",
       " 100122,\n",
       " 100124,\n",
       " 100126,\n",
       " 100128,\n",
       " 100130,\n",
       " 100132,\n",
       " 100134,\n",
       " 100136,\n",
       " 100138,\n",
       " 100140,\n",
       " 100142,\n",
       " 100144,\n",
       " 100146,\n",
       " 100148,\n",
       " 100150,\n",
       " 100152,\n",
       " 100154,\n",
       " 100156,\n",
       " 100158,\n",
       " 100160,\n",
       " 100162,\n",
       " 100164,\n",
       " 100166,\n",
       " 100168,\n",
       " 100170,\n",
       " 100172,\n",
       " 100174,\n",
       " 100176,\n",
       " 100178,\n",
       " 100180,\n",
       " 100182,\n",
       " 100184,\n",
       " 100186,\n",
       " 100188,\n",
       " 100190,\n",
       " 100192,\n",
       " 100194,\n",
       " 100196,\n",
       " 100198,\n",
       " 100200,\n",
       " 100202,\n",
       " 100204,\n",
       " 100206,\n",
       " 100208,\n",
       " 100210,\n",
       " 100212,\n",
       " 100214,\n",
       " 100216,\n",
       " 100218,\n",
       " 100220,\n",
       " 100222,\n",
       " 100224,\n",
       " 100226,\n",
       " 100228,\n",
       " 100230,\n",
       " 100232,\n",
       " 100234,\n",
       " 100236,\n",
       " 100238,\n",
       " 100240,\n",
       " 100242,\n",
       " 100244,\n",
       " 100246,\n",
       " 100248,\n",
       " 100250,\n",
       " 100252,\n",
       " 100254,\n",
       " 100256,\n",
       " 100258,\n",
       " 100260,\n",
       " 100262,\n",
       " 100264,\n",
       " 100266,\n",
       " 100268,\n",
       " 100270,\n",
       " 100272,\n",
       " 100274,\n",
       " 100276,\n",
       " 100278,\n",
       " 100280,\n",
       " 100282,\n",
       " 100284,\n",
       " 100286,\n",
       " 100288,\n",
       " 100290,\n",
       " 100292,\n",
       " 100294,\n",
       " 100296,\n",
       " 100298,\n",
       " 100300,\n",
       " 100302,\n",
       " 100304,\n",
       " 100306,\n",
       " 100308,\n",
       " 100310,\n",
       " 100312,\n",
       " 100314,\n",
       " 100316,\n",
       " 100318,\n",
       " 100320,\n",
       " 100322,\n",
       " 100324,\n",
       " 100326,\n",
       " 100328,\n",
       " 100330,\n",
       " 100332,\n",
       " 100334,\n",
       " 100336,\n",
       " 100338,\n",
       " 100340,\n",
       " 100342,\n",
       " 100344,\n",
       " 100346,\n",
       " 100348,\n",
       " 100350,\n",
       " 100352,\n",
       " 100354,\n",
       " 100356,\n",
       " 100358,\n",
       " 100360,\n",
       " 100362,\n",
       " 100364,\n",
       " 100366,\n",
       " 100368,\n",
       " 100370,\n",
       " 100372,\n",
       " 100374,\n",
       " 100376,\n",
       " 100378,\n",
       " 100380,\n",
       " 100382,\n",
       " 100384,\n",
       " 100386,\n",
       " 100388,\n",
       " 100390,\n",
       " 100392,\n",
       " 100394,\n",
       " 100396,\n",
       " 100398,\n",
       " 100400,\n",
       " 100402,\n",
       " 100404,\n",
       " 100406,\n",
       " 100408,\n",
       " 100410,\n",
       " 100412,\n",
       " 100414,\n",
       " 100416,\n",
       " 100418,\n",
       " 100420,\n",
       " 100422,\n",
       " 100424,\n",
       " 100426,\n",
       " 100428,\n",
       " 100430,\n",
       " 100432,\n",
       " 100434,\n",
       " 100436,\n",
       " 100438,\n",
       " 100440,\n",
       " 100442,\n",
       " 100444,\n",
       " 100446,\n",
       " 100448,\n",
       " 100450,\n",
       " 100452,\n",
       " 100454,\n",
       " 100456,\n",
       " 100458,\n",
       " 100460,\n",
       " 100462,\n",
       " 100464,\n",
       " 100466,\n",
       " 100468,\n",
       " 100470,\n",
       " 100472,\n",
       " 100474,\n",
       " 100476,\n",
       " 100478,\n",
       " 100480,\n",
       " 100482,\n",
       " 100484,\n",
       " 100486,\n",
       " 100488,\n",
       " 100490,\n",
       " 100492,\n",
       " 100494,\n",
       " 100496,\n",
       " 100498,\n",
       " 100500,\n",
       " 100502,\n",
       " 100504,\n",
       " 100506,\n",
       " 100508,\n",
       " 100510,\n",
       " 100512,\n",
       " 100514,\n",
       " 100516,\n",
       " 100518,\n",
       " 100520,\n",
       " 100522,\n",
       " 100524,\n",
       " 100526,\n",
       " 100528,\n",
       " 100530,\n",
       " 100532,\n",
       " 100534,\n",
       " 100536,\n",
       " 100538,\n",
       " 100540,\n",
       " 100542,\n",
       " 100544,\n",
       " 100546,\n",
       " 100548,\n",
       " 100550,\n",
       " 100552,\n",
       " 100554,\n",
       " 100556,\n",
       " 100558,\n",
       " 100560,\n",
       " 100562,\n",
       " 100564,\n",
       " 100566,\n",
       " 100568,\n",
       " 100570,\n",
       " 100572,\n",
       " 100574,\n",
       " 100576,\n",
       " 100578,\n",
       " 100580,\n",
       " 100582,\n",
       " 100584,\n",
       " 100586,\n",
       " 100588,\n",
       " 100590,\n",
       " 100592,\n",
       " 100594,\n",
       " 100596,\n",
       " 100598,\n",
       " 100600,\n",
       " 100602,\n",
       " 100604,\n",
       " 100606,\n",
       " 100608,\n",
       " 100610,\n",
       " 100612,\n",
       " 100614,\n",
       " 100616,\n",
       " 100618,\n",
       " 100620,\n",
       " 100622,\n",
       " 100624,\n",
       " 100626,\n",
       " 100628,\n",
       " 100630,\n",
       " 100632,\n",
       " 100634,\n",
       " 100636,\n",
       " 100638,\n",
       " 100640,\n",
       " 100642,\n",
       " 100644,\n",
       " 100646,\n",
       " 100648,\n",
       " 100650,\n",
       " 100652,\n",
       " 100654,\n",
       " 100656,\n",
       " 100658,\n",
       " 100660,\n",
       " 100662,\n",
       " 100664,\n",
       " 100666,\n",
       " 100668,\n",
       " 100670,\n",
       " 100672,\n",
       " 100674,\n",
       " 100676,\n",
       " 100678,\n",
       " 100680,\n",
       " 100682,\n",
       " 100684,\n",
       " 100686,\n",
       " 100688,\n",
       " 100690,\n",
       " 100692,\n",
       " 100694,\n",
       " 100696,\n",
       " 100698,\n",
       " 100700,\n",
       " 100702,\n",
       " 100704,\n",
       " 100706,\n",
       " 100708,\n",
       " 100710,\n",
       " 100712,\n",
       " 100714,\n",
       " 100716,\n",
       " 100718,\n",
       " 100720,\n",
       " 100722,\n",
       " 100724,\n",
       " 100726,\n",
       " 100728,\n",
       " 100730,\n",
       " 100732,\n",
       " 100734,\n",
       " 100736,\n",
       " 100738,\n",
       " 100740,\n",
       " 100742,\n",
       " 100744,\n",
       " 100746,\n",
       " 100748,\n",
       " 100750,\n",
       " 100752,\n",
       " 100754,\n",
       " 100756,\n",
       " 100758,\n",
       " 100760,\n",
       " 100762,\n",
       " 100764,\n",
       " 100766,\n",
       " 100768,\n",
       " 100770,\n",
       " 100772,\n",
       " 100774,\n",
       " 100776,\n",
       " 100778,\n",
       " 100780,\n",
       " 100782,\n",
       " 100784,\n",
       " 100786,\n",
       " 100788,\n",
       " 100790,\n",
       " 100792,\n",
       " 100794,\n",
       " 100796,\n",
       " 100798,\n",
       " 100800,\n",
       " 100802,\n",
       " 100804,\n",
       " 100806,\n",
       " 100808,\n",
       " 100810,\n",
       " 100812,\n",
       " 100814,\n",
       " 100816,\n",
       " 100818,\n",
       " 100820,\n",
       " 100822,\n",
       " 100824,\n",
       " 100826,\n",
       " 100828,\n",
       " 100830,\n",
       " 100832,\n",
       " 100834,\n",
       " 100836,\n",
       " 100838,\n",
       " 100840,\n",
       " 100842,\n",
       " 100844,\n",
       " 100846,\n",
       " 100848,\n",
       " 100850,\n",
       " 100852,\n",
       " 100854,\n",
       " 100856,\n",
       " 100858,\n",
       " 100860,\n",
       " 100862,\n",
       " 100864,\n",
       " 100866,\n",
       " 100868,\n",
       " 100870,\n",
       " 100872,\n",
       " 100874,\n",
       " 100876,\n",
       " 100878,\n",
       " 100880,\n",
       " 100882,\n",
       " 100884,\n",
       " 100886,\n",
       " 100888,\n",
       " 100890,\n",
       " 100892,\n",
       " 100894,\n",
       " 100896,\n",
       " 100898,\n",
       " 100900,\n",
       " 100902,\n",
       " 100904,\n",
       " 100906,\n",
       " 100908,\n",
       " 100910,\n",
       " 100912,\n",
       " 100914,\n",
       " 100916,\n",
       " 100918,\n",
       " 100920,\n",
       " 100922,\n",
       " 100924,\n",
       " 100926,\n",
       " 100928,\n",
       " 100930,\n",
       " 100932,\n",
       " 100934,\n",
       " 100936,\n",
       " 100938,\n",
       " 100940,\n",
       " 100942,\n",
       " 100944,\n",
       " 100946,\n",
       " 100948,\n",
       " 100950,\n",
       " 100952,\n",
       " 100954,\n",
       " 100956,\n",
       " 100958,\n",
       " 100960,\n",
       " 100962,\n",
       " 100964,\n",
       " 100966,\n",
       " 100968,\n",
       " 100970,\n",
       " 100972,\n",
       " 100974,\n",
       " 100976,\n",
       " 100978,\n",
       " 100980,\n",
       " 100982,\n",
       " 100984,\n",
       " 100986,\n",
       " 100988,\n",
       " 100990,\n",
       " 100992,\n",
       " 100994,\n",
       " 100996,\n",
       " 100998,\n",
       " 101000,\n",
       " 101002,\n",
       " 101004,\n",
       " 101006,\n",
       " 101008,\n",
       " 101010,\n",
       " 101012,\n",
       " 101014,\n",
       " 101016,\n",
       " 101018,\n",
       " 101020,\n",
       " 101022,\n",
       " 101024,\n",
       " 101026,\n",
       " 101028,\n",
       " 101030,\n",
       " 101032,\n",
       " 101034,\n",
       " 101036,\n",
       " 101038,\n",
       " 101040,\n",
       " 101042,\n",
       " 101044,\n",
       " 101046,\n",
       " 101048,\n",
       " 101050,\n",
       " 101052,\n",
       " 101054,\n",
       " 101056,\n",
       " 101058,\n",
       " 101060,\n",
       " 101062,\n",
       " 101064,\n",
       " 101066,\n",
       " 101068,\n",
       " 101070,\n",
       " 101072,\n",
       " 101074,\n",
       " 101076,\n",
       " 101078,\n",
       " 101080,\n",
       " 101082,\n",
       " 101084,\n",
       " 101086,\n",
       " 101088,\n",
       " 101090,\n",
       " 101092,\n",
       " 101094,\n",
       " 101096,\n",
       " 101098,\n",
       " 101100,\n",
       " 101102,\n",
       " 101104,\n",
       " 101106,\n",
       " 101108,\n",
       " 101110,\n",
       " 101112,\n",
       " 101114,\n",
       " 101116,\n",
       " 101118,\n",
       " 101120,\n",
       " 101122,\n",
       " 101124,\n",
       " 101126,\n",
       " 101128,\n",
       " 101130,\n",
       " 101132,\n",
       " 101134,\n",
       " 101136,\n",
       " 101138,\n",
       " 101140,\n",
       " 101142,\n",
       " 101144,\n",
       " 101146,\n",
       " 101148,\n",
       " 101150,\n",
       " 101152,\n",
       " 101154,\n",
       " 101156,\n",
       " 101158,\n",
       " 101160,\n",
       " 101162,\n",
       " 101164,\n",
       " 101166,\n",
       " 101168,\n",
       " 101170,\n",
       " 101172,\n",
       " 101174,\n",
       " 101176,\n",
       " 101178,\n",
       " 101180,\n",
       " 101182,\n",
       " 101184,\n",
       " 101186,\n",
       " 101188,\n",
       " 101190,\n",
       " 101192,\n",
       " 101194,\n",
       " 101196,\n",
       " 101198,\n",
       " 101200,\n",
       " 101202,\n",
       " 101204,\n",
       " 101206,\n",
       " 101208,\n",
       " 101210,\n",
       " 101212,\n",
       " 101214,\n",
       " 101216,\n",
       " 101218,\n",
       " 101220,\n",
       " 101222,\n",
       " 101224,\n",
       " 101226,\n",
       " 101228,\n",
       " 101230,\n",
       " 101232,\n",
       " 101234,\n",
       " 101236,\n",
       " 101238,\n",
       " 101240,\n",
       " 101242,\n",
       " 101244,\n",
       " 101246,\n",
       " 101248,\n",
       " 101250,\n",
       " 101252,\n",
       " 101254,\n",
       " 101256,\n",
       " 101258,\n",
       " 101260,\n",
       " 101262,\n",
       " 101264,\n",
       " 101266,\n",
       " 101268,\n",
       " 101270,\n",
       " 101272,\n",
       " 101274,\n",
       " 101276,\n",
       " 101278,\n",
       " 101280,\n",
       " 101282,\n",
       " 101284,\n",
       " 101286,\n",
       " 101288,\n",
       " 101290,\n",
       " 101292,\n",
       " 101294,\n",
       " 101296,\n",
       " 101298,\n",
       " 101300,\n",
       " 101302,\n",
       " 101304,\n",
       " 101306,\n",
       " 101308,\n",
       " 101310,\n",
       " 101312,\n",
       " 101314,\n",
       " 101316,\n",
       " 101318,\n",
       " 101320,\n",
       " 101322,\n",
       " 101324,\n",
       " 101326,\n",
       " 101328,\n",
       " 101330,\n",
       " 101332,\n",
       " 101334,\n",
       " 101336,\n",
       " 101338,\n",
       " 101340,\n",
       " 101342,\n",
       " 101344,\n",
       " 101346,\n",
       " 101348,\n",
       " 101350,\n",
       " 101352,\n",
       " 101354,\n",
       " 101356,\n",
       " 101358,\n",
       " 101360,\n",
       " 101362,\n",
       " 101364,\n",
       " 101366,\n",
       " 101368,\n",
       " 101370,\n",
       " 101372,\n",
       " 101374,\n",
       " 101376,\n",
       " 101378,\n",
       " 101380,\n",
       " 101382,\n",
       " 101384,\n",
       " 101386,\n",
       " 101388,\n",
       " 101390,\n",
       " 101392,\n",
       " 101394,\n",
       " 101396,\n",
       " 101398,\n",
       " 101400,\n",
       " 101402,\n",
       " 101404,\n",
       " 101406,\n",
       " 101408,\n",
       " 101410,\n",
       " 101412,\n",
       " 101414,\n",
       " 101416,\n",
       " 101418,\n",
       " 101420,\n",
       " 101422,\n",
       " 101424,\n",
       " 101426,\n",
       " 101428,\n",
       " 101430,\n",
       " 101432,\n",
       " 101434,\n",
       " 101436,\n",
       " 101438,\n",
       " 101440,\n",
       " 101442,\n",
       " 101444,\n",
       " 101446,\n",
       " 101448,\n",
       " 101450,\n",
       " 101452,\n",
       " 101454,\n",
       " 101456,\n",
       " 101458,\n",
       " 101460,\n",
       " 101462,\n",
       " 101464,\n",
       " 101466,\n",
       " 101468,\n",
       " 101470,\n",
       " 101472,\n",
       " 101474,\n",
       " 101476,\n",
       " 101478,\n",
       " 101480,\n",
       " 101482,\n",
       " 101484,\n",
       " 101486,\n",
       " 101488,\n",
       " 101490,\n",
       " 101492,\n",
       " 101494,\n",
       " 101496,\n",
       " 101498,\n",
       " 101500,\n",
       " 101502,\n",
       " 101504,\n",
       " 101506,\n",
       " 101508,\n",
       " 101510,\n",
       " 101512,\n",
       " 101514,\n",
       " 101516,\n",
       " 101518,\n",
       " 101520,\n",
       " 101522,\n",
       " 101524,\n",
       " 101526,\n",
       " 101528,\n",
       " 101530,\n",
       " 101532,\n",
       " 101534,\n",
       " 101536,\n",
       " 101538,\n",
       " 101540,\n",
       " 101542,\n",
       " 101544,\n",
       " 101546,\n",
       " 101548,\n",
       " 101550,\n",
       " 101552,\n",
       " 101554,\n",
       " 101556,\n",
       " 101558,\n",
       " 101560,\n",
       " 101562,\n",
       " 101564,\n",
       " 101566,\n",
       " 101568,\n",
       " 101570,\n",
       " 101572,\n",
       " 101574,\n",
       " 101576,\n",
       " 101578,\n",
       " 101580,\n",
       " 101582,\n",
       " 101584,\n",
       " 101586,\n",
       " 101588,\n",
       " 101590,\n",
       " 101592,\n",
       " 101594,\n",
       " 101596,\n",
       " 101598,\n",
       " 101600,\n",
       " 101602,\n",
       " 101604,\n",
       " 101606,\n",
       " 101608,\n",
       " 101610,\n",
       " 101612,\n",
       " 101614,\n",
       " 101616,\n",
       " 101618,\n",
       " 101620,\n",
       " 101622,\n",
       " 101624,\n",
       " 101626,\n",
       " 101628,\n",
       " 101630,\n",
       " 101632,\n",
       " 101634,\n",
       " 101636,\n",
       " 101638,\n",
       " 101640,\n",
       " 101642,\n",
       " 101644,\n",
       " 101646,\n",
       " 101648,\n",
       " 101650,\n",
       " 101652,\n",
       " 101654,\n",
       " 101656,\n",
       " 101658,\n",
       " 101660,\n",
       " 101662,\n",
       " 101664,\n",
       " 101666,\n",
       " 101668,\n",
       " 101670,\n",
       " 101672,\n",
       " 101674,\n",
       " 101676,\n",
       " 101678,\n",
       " 101680,\n",
       " 101682,\n",
       " 101684,\n",
       " 101686,\n",
       " 101688,\n",
       " 101690,\n",
       " 101692,\n",
       " 101694,\n",
       " 101696,\n",
       " 101698,\n",
       " 101700,\n",
       " 101702,\n",
       " 101704,\n",
       " 101706,\n",
       " 101708,\n",
       " 101710,\n",
       " 101712,\n",
       " 101714,\n",
       " 101716,\n",
       " 101718,\n",
       " 101720,\n",
       " 101722,\n",
       " 101724,\n",
       " 101726,\n",
       " 101728,\n",
       " 101730,\n",
       " 101732,\n",
       " 101734,\n",
       " 101736,\n",
       " 101738,\n",
       " 101740,\n",
       " 101742,\n",
       " 101744,\n",
       " 101746,\n",
       " 101748,\n",
       " 101750,\n",
       " 101752,\n",
       " 101754,\n",
       " 101756,\n",
       " 101758,\n",
       " 101760,\n",
       " 101762,\n",
       " 101764,\n",
       " 101766,\n",
       " 101768,\n",
       " 101770,\n",
       " 101772,\n",
       " 101774,\n",
       " 101776,\n",
       " 101778,\n",
       " 101780,\n",
       " 101782,\n",
       " 101784,\n",
       " 101786,\n",
       " 101788,\n",
       " 101790,\n",
       " 101792,\n",
       " 101794,\n",
       " 101796,\n",
       " 101798,\n",
       " 101800,\n",
       " 101802,\n",
       " 101804,\n",
       " 101806,\n",
       " 101808,\n",
       " 101810,\n",
       " 101812,\n",
       " 101814,\n",
       " 101816,\n",
       " 101818,\n",
       " 101820,\n",
       " 101822,\n",
       " 101824,\n",
       " 101826,\n",
       " 101828,\n",
       " 101830,\n",
       " 101832,\n",
       " 101834,\n",
       " 101836,\n",
       " 101838,\n",
       " 101840,\n",
       " 101842,\n",
       " 101844,\n",
       " 101846,\n",
       " 101848,\n",
       " 101850,\n",
       " 101852,\n",
       " 101854,\n",
       " 101856,\n",
       " 101858,\n",
       " 101860,\n",
       " 101862,\n",
       " 101864,\n",
       " 101866,\n",
       " 101868,\n",
       " 101870,\n",
       " 101872,\n",
       " 101874,\n",
       " 101876,\n",
       " 101878,\n",
       " 101880,\n",
       " 101882,\n",
       " 101884,\n",
       " 101886,\n",
       " 101888,\n",
       " 101890,\n",
       " 101892,\n",
       " 101894,\n",
       " 101896,\n",
       " 101898,\n",
       " 101900,\n",
       " 101902,\n",
       " 101904,\n",
       " 101906,\n",
       " 101908,\n",
       " 101910,\n",
       " 101912,\n",
       " 101914,\n",
       " 101916,\n",
       " 101918,\n",
       " 101920,\n",
       " 101922,\n",
       " 101924,\n",
       " 101926,\n",
       " 101928,\n",
       " 101930,\n",
       " 101932,\n",
       " 101934,\n",
       " 101936,\n",
       " 101938,\n",
       " 101940,\n",
       " 101942,\n",
       " 101944,\n",
       " 101946,\n",
       " 101948,\n",
       " 101950,\n",
       " 101952,\n",
       " 101954,\n",
       " 101956,\n",
       " 101958,\n",
       " 101960,\n",
       " 101962,\n",
       " 101964,\n",
       " 101966,\n",
       " 101968,\n",
       " 101970,\n",
       " 101972,\n",
       " 101974,\n",
       " 101976,\n",
       " 101978,\n",
       " 101980,\n",
       " 101982,\n",
       " 101984,\n",
       " 101986,\n",
       " 101988,\n",
       " 101990,\n",
       " 101992,\n",
       " 101994,\n",
       " 101996,\n",
       " 101998,\n",
       " ...]"
      ]
     },
     "execution_count": 42,
     "metadata": {},
     "output_type": "execute_result"
    }
   ],
   "source": [
    "# In terms of execution time\n",
    "\n",
    "x=range(100000)\n",
    "y=range(100000,200000)\n",
    "z=[(x+y) for x,y in zip(x,y)]\n",
    "z"
   ]
  },
  {
   "cell_type": "code",
   "execution_count": 43,
   "metadata": {},
   "outputs": [],
   "source": [
    "import time"
   ]
  },
  {
   "cell_type": "code",
   "execution_count": 52,
   "metadata": {},
   "outputs": [],
   "source": [
    "start_time=time.time()\n",
    "z=[(x+y) for x,y in zip(x,y)]\n",
    "t1=time.time()-start_time\n"
   ]
  },
  {
   "cell_type": "code",
   "execution_count": 53,
   "metadata": {},
   "outputs": [
    {
     "data": {
      "text/plain": [
       "1577080007.1294405"
      ]
     },
     "execution_count": 53,
     "metadata": {},
     "output_type": "execute_result"
    }
   ],
   "source": [
    "time.time()\n"
   ]
  },
  {
   "cell_type": "code",
   "execution_count": 58,
   "metadata": {},
   "outputs": [
    {
     "data": {
      "text/plain": [
       "0.007997512817382812"
      ]
     },
     "execution_count": 58,
     "metadata": {},
     "output_type": "execute_result"
    }
   ],
   "source": [
    "a=np.arange(1000000)\n",
    "b=np.arange(1000000,2000000)\n",
    "\n",
    "start_time=time.time()\n",
    "c=a+b\n",
    "t2=time.time()-start_time\n",
    "t2"
   ]
  },
  {
   "cell_type": "code",
   "execution_count": 57,
   "metadata": {},
   "outputs": [
    {
     "data": {
      "text/plain": [
       "8.472275050517057"
      ]
     },
     "execution_count": 57,
     "metadata": {},
     "output_type": "execute_result"
    }
   ],
   "source": [
    "t1/t2"
   ]
  },
  {
   "cell_type": "markdown",
   "metadata": {},
   "source": [
    "## 4.Array Operations "
   ]
  },
  {
   "cell_type": "code",
   "execution_count": 64,
   "metadata": {},
   "outputs": [
    {
     "data": {
      "text/plain": [
       "array([[ 0,  1,  2,  3,  4,  5],\n",
       "       [ 6,  7,  8,  9, 10, 11],\n",
       "       [12, 13, 14, 15, 16, 17],\n",
       "       [18, 19, 20, 21, 22, 23]])"
      ]
     },
     "execution_count": 64,
     "metadata": {},
     "output_type": "execute_result"
    }
   ],
   "source": [
    "a=np.arange(24).reshape(4,6)\n",
    "a"
   ]
  },
  {
   "cell_type": "code",
   "execution_count": 65,
   "metadata": {},
   "outputs": [],
   "source": [
    "b=np.arange(24,48).reshape(4,6)"
   ]
  },
  {
   "cell_type": "code",
   "execution_count": 66,
   "metadata": {},
   "outputs": [
    {
     "data": {
      "text/plain": [
       "array([[   0,   25,   52,   81,  112,  145],\n",
       "       [ 180,  217,  256,  297,  340,  385],\n",
       "       [ 432,  481,  532,  585,  640,  697],\n",
       "       [ 756,  817,  880,  945, 1012, 1081]])"
      ]
     },
     "execution_count": 66,
     "metadata": {},
     "output_type": "execute_result"
    }
   ],
   "source": [
    "a*b"
   ]
  },
  {
   "cell_type": "code",
   "execution_count": 67,
   "metadata": {},
   "outputs": [
    {
     "data": {
      "text/plain": [
       "array([[False, False, False, False, False, False],\n",
       "       [False, False, False, False, False, False],\n",
       "       [False, False, False, False, False, False],\n",
       "       [False, False, False, False, False,  True]])"
      ]
     },
     "execution_count": 67,
     "metadata": {},
     "output_type": "execute_result"
    }
   ],
   "source": [
    "a==23"
   ]
  },
  {
   "cell_type": "code",
   "execution_count": 68,
   "metadata": {},
   "outputs": [
    {
     "data": {
      "text/plain": [
       "array([[False, False, False, False, False, False],\n",
       "       [False, False, False, False, False, False],\n",
       "       [False, False, False, False,  True,  True],\n",
       "       [ True,  True,  True,  True,  True,  True]])"
      ]
     },
     "execution_count": 68,
     "metadata": {},
     "output_type": "execute_result"
    }
   ],
   "source": [
    "a>15"
   ]
  },
  {
   "cell_type": "code",
   "execution_count": 69,
   "metadata": {},
   "outputs": [
    {
     "data": {
      "text/plain": [
       "array([[ 0,  3,  6,  9, 12, 15],\n",
       "       [18, 21, 24, 27, 30, 33],\n",
       "       [36, 39, 42, 45, 48, 51],\n",
       "       [54, 57, 60, 63, 66, 69]])"
      ]
     },
     "execution_count": 69,
     "metadata": {},
     "output_type": "execute_result"
    }
   ],
   "source": [
    "a*3"
   ]
  },
  {
   "cell_type": "code",
   "execution_count": 70,
   "metadata": {},
   "outputs": [
    {
     "ename": "ValueError",
     "evalue": "shapes (4,6) and (4,6) not aligned: 6 (dim 1) != 4 (dim 0)",
     "output_type": "error",
     "traceback": [
      "\u001b[1;31m---------------------------------------------------------------------------\u001b[0m",
      "\u001b[1;31mValueError\u001b[0m                                Traceback (most recent call last)",
      "\u001b[1;32m<ipython-input-70-ac6884f5cff1>\u001b[0m in \u001b[0;36m<module>\u001b[1;34m\u001b[0m\n\u001b[1;32m----> 1\u001b[1;33m \u001b[0ma\u001b[0m\u001b[1;33m.\u001b[0m\u001b[0mdot\u001b[0m\u001b[1;33m(\u001b[0m\u001b[0mb\u001b[0m\u001b[1;33m)\u001b[0m\u001b[1;33m\u001b[0m\u001b[1;33m\u001b[0m\u001b[0m\n\u001b[0m",
      "\u001b[1;31mValueError\u001b[0m: shapes (4,6) and (4,6) not aligned: 6 (dim 1) != 4 (dim 0)"
     ]
    }
   ],
   "source": [
    "a.dot(b)"
   ]
  },
  {
   "cell_type": "code",
   "execution_count": 71,
   "metadata": {},
   "outputs": [
    {
     "data": {
      "text/plain": [
       "array([[ 415,  505,  595,  685],\n",
       "       [1369, 1675, 1981, 2287],\n",
       "       [2323, 2845, 3367, 3889],\n",
       "       [3277, 4015, 4753, 5491]])"
      ]
     },
     "execution_count": 71,
     "metadata": {},
     "output_type": "execute_result"
    }
   ],
   "source": [
    "a.dot(np.transpose(b))"
   ]
  },
  {
   "cell_type": "code",
   "execution_count": 72,
   "metadata": {},
   "outputs": [
    {
     "data": {
      "text/plain": [
       "array([[ 2,  3,  4,  5,  6,  7],\n",
       "       [ 8,  9, 10, 11, 12, 13],\n",
       "       [14, 15, 16, 17, 18, 19],\n",
       "       [20, 21, 22, 23, 24, 25]])"
      ]
     },
     "execution_count": 72,
     "metadata": {},
     "output_type": "execute_result"
    }
   ],
   "source": [
    "a+=2\n",
    "a"
   ]
  },
  {
   "cell_type": "markdown",
   "metadata": {},
   "source": [
    "a.min()"
   ]
  },
  {
   "cell_type": "code",
   "execution_count": 74,
   "metadata": {},
   "outputs": [
    {
     "data": {
      "text/plain": [
       "array([20, 21, 22, 23, 24, 25])"
      ]
     },
     "execution_count": 74,
     "metadata": {},
     "output_type": "execute_result"
    }
   ],
   "source": [
    "a.max(axis=0)"
   ]
  },
  {
   "cell_type": "code",
   "execution_count": 75,
   "metadata": {},
   "outputs": [
    {
     "data": {
      "text/plain": [
       "array([ 7, 13, 19, 25])"
      ]
     },
     "execution_count": 75,
     "metadata": {},
     "output_type": "execute_result"
    }
   ],
   "source": [
    "a.max(axis=1)"
   ]
  },
  {
   "cell_type": "code",
   "execution_count": 76,
   "metadata": {},
   "outputs": [
    {
     "data": {
      "text/plain": [
       "array([44, 48, 52, 56, 60, 64])"
      ]
     },
     "execution_count": 76,
     "metadata": {},
     "output_type": "execute_result"
    }
   ],
   "source": [
    "a.sum(axis=0)"
   ]
  },
  {
   "cell_type": "code",
   "execution_count": 77,
   "metadata": {},
   "outputs": [
    {
     "ename": "IndexError",
     "evalue": "tuple index out of range",
     "output_type": "error",
     "traceback": [
      "\u001b[1;31m---------------------------------------------------------------------------\u001b[0m",
      "\u001b[1;31mIndexError\u001b[0m                                Traceback (most recent call last)",
      "\u001b[1;32m<ipython-input-77-7a5daf2fa76b>\u001b[0m in \u001b[0;36m<module>\u001b[1;34m\u001b[0m\n\u001b[1;32m----> 1\u001b[1;33m \u001b[0ma\u001b[0m\u001b[1;33m.\u001b[0m\u001b[0mmean\u001b[0m\u001b[1;33m(\u001b[0m\u001b[0maxis\u001b[0m\u001b[1;33m=\u001b[0m\u001b[1;36m2\u001b[0m\u001b[1;33m)\u001b[0m\u001b[1;33m\u001b[0m\u001b[1;33m\u001b[0m\u001b[0m\n\u001b[0m",
      "\u001b[1;32mC:\\ProgramData\\Anaconda3\\lib\\site-packages\\numpy\\core\\_methods.py\u001b[0m in \u001b[0;36m_mean\u001b[1;34m(a, axis, dtype, out, keepdims)\u001b[0m\n\u001b[0;32m     60\u001b[0m \u001b[1;33m\u001b[0m\u001b[0m\n\u001b[0;32m     61\u001b[0m     \u001b[0mis_float16_result\u001b[0m \u001b[1;33m=\u001b[0m \u001b[1;32mFalse\u001b[0m\u001b[1;33m\u001b[0m\u001b[1;33m\u001b[0m\u001b[0m\n\u001b[1;32m---> 62\u001b[1;33m     \u001b[0mrcount\u001b[0m \u001b[1;33m=\u001b[0m \u001b[0m_count_reduce_items\u001b[0m\u001b[1;33m(\u001b[0m\u001b[0marr\u001b[0m\u001b[1;33m,\u001b[0m \u001b[0maxis\u001b[0m\u001b[1;33m)\u001b[0m\u001b[1;33m\u001b[0m\u001b[1;33m\u001b[0m\u001b[0m\n\u001b[0m\u001b[0;32m     63\u001b[0m     \u001b[1;31m# Make this warning show up first\u001b[0m\u001b[1;33m\u001b[0m\u001b[1;33m\u001b[0m\u001b[1;33m\u001b[0m\u001b[0m\n\u001b[0;32m     64\u001b[0m     \u001b[1;32mif\u001b[0m \u001b[0mrcount\u001b[0m \u001b[1;33m==\u001b[0m \u001b[1;36m0\u001b[0m\u001b[1;33m:\u001b[0m\u001b[1;33m\u001b[0m\u001b[1;33m\u001b[0m\u001b[0m\n",
      "\u001b[1;32mC:\\ProgramData\\Anaconda3\\lib\\site-packages\\numpy\\core\\_methods.py\u001b[0m in \u001b[0;36m_count_reduce_items\u001b[1;34m(arr, axis)\u001b[0m\n\u001b[0;32m     53\u001b[0m     \u001b[0mitems\u001b[0m \u001b[1;33m=\u001b[0m \u001b[1;36m1\u001b[0m\u001b[1;33m\u001b[0m\u001b[1;33m\u001b[0m\u001b[0m\n\u001b[0;32m     54\u001b[0m     \u001b[1;32mfor\u001b[0m \u001b[0max\u001b[0m \u001b[1;32min\u001b[0m \u001b[0maxis\u001b[0m\u001b[1;33m:\u001b[0m\u001b[1;33m\u001b[0m\u001b[1;33m\u001b[0m\u001b[0m\n\u001b[1;32m---> 55\u001b[1;33m         \u001b[0mitems\u001b[0m \u001b[1;33m*=\u001b[0m \u001b[0marr\u001b[0m\u001b[1;33m.\u001b[0m\u001b[0mshape\u001b[0m\u001b[1;33m[\u001b[0m\u001b[0max\u001b[0m\u001b[1;33m]\u001b[0m\u001b[1;33m\u001b[0m\u001b[1;33m\u001b[0m\u001b[0m\n\u001b[0m\u001b[0;32m     56\u001b[0m     \u001b[1;32mreturn\u001b[0m \u001b[0mitems\u001b[0m\u001b[1;33m\u001b[0m\u001b[1;33m\u001b[0m\u001b[0m\n\u001b[0;32m     57\u001b[0m \u001b[1;33m\u001b[0m\u001b[0m\n",
      "\u001b[1;31mIndexError\u001b[0m: tuple index out of range"
     ]
    }
   ],
   "source": [
    "a.mean(axis=2)"
   ]
  },
  {
   "cell_type": "code",
   "execution_count": 78,
   "metadata": {},
   "outputs": [
    {
     "data": {
      "text/plain": [
       "array([ 4.5, 10.5, 16.5, 22.5])"
      ]
     },
     "execution_count": 78,
     "metadata": {},
     "output_type": "execute_result"
    }
   ],
   "source": [
    "a.mean(axis=1)"
   ]
  },
  {
   "cell_type": "code",
   "execution_count": 79,
   "metadata": {},
   "outputs": [
    {
     "data": {
      "text/plain": [
       "array([[ 0.90929743,  0.14112001, -0.7568025 , -0.95892427, -0.2794155 ,\n",
       "         0.6569866 ],\n",
       "       [ 0.98935825,  0.41211849, -0.54402111, -0.99999021, -0.53657292,\n",
       "         0.42016704],\n",
       "       [ 0.99060736,  0.65028784, -0.28790332, -0.96139749, -0.75098725,\n",
       "         0.14987721],\n",
       "       [ 0.91294525,  0.83665564, -0.00885131, -0.8462204 , -0.90557836,\n",
       "        -0.13235175]])"
      ]
     },
     "execution_count": 79,
     "metadata": {},
     "output_type": "execute_result"
    }
   ],
   "source": [
    "np.sin(a)"
   ]
  },
  {
   "cell_type": "code",
   "execution_count": 80,
   "metadata": {},
   "outputs": [
    {
     "data": {
      "text/plain": [
       "13.5"
      ]
     },
     "execution_count": 80,
     "metadata": {},
     "output_type": "execute_result"
    }
   ],
   "source": [
    "np.median(a)"
   ]
  },
  {
   "cell_type": "markdown",
   "metadata": {},
   "source": [
    "## 5.Indexing and Slicing "
   ]
  },
  {
   "cell_type": "code",
   "execution_count": 81,
   "metadata": {},
   "outputs": [
    {
     "data": {
      "text/plain": [
       "array([0, 1, 2, 3, 4, 5, 6, 7, 8, 9])"
      ]
     },
     "execution_count": 81,
     "metadata": {},
     "output_type": "execute_result"
    }
   ],
   "source": [
    "c=np.arange(10)\n",
    "c"
   ]
  },
  {
   "cell_type": "code",
   "execution_count": 82,
   "metadata": {},
   "outputs": [
    {
     "data": {
      "text/plain": [
       "3"
      ]
     },
     "execution_count": 82,
     "metadata": {},
     "output_type": "execute_result"
    }
   ],
   "source": [
    "c[3]"
   ]
  },
  {
   "cell_type": "code",
   "execution_count": 83,
   "metadata": {},
   "outputs": [
    {
     "data": {
      "text/plain": [
       "7"
      ]
     },
     "execution_count": 83,
     "metadata": {},
     "output_type": "execute_result"
    }
   ],
   "source": [
    "c[-3]"
   ]
  },
  {
   "cell_type": "code",
   "execution_count": 84,
   "metadata": {},
   "outputs": [
    {
     "data": {
      "text/plain": [
       "array([3, 4, 5])"
      ]
     },
     "execution_count": 84,
     "metadata": {},
     "output_type": "execute_result"
    }
   ],
   "source": [
    "c[3:6]"
   ]
  },
  {
   "cell_type": "code",
   "execution_count": 85,
   "metadata": {},
   "outputs": [
    {
     "data": {
      "text/plain": [
       "array([3, 5])"
      ]
     },
     "execution_count": 85,
     "metadata": {},
     "output_type": "execute_result"
    }
   ],
   "source": [
    "c[3:6:2]"
   ]
  },
  {
   "cell_type": "code",
   "execution_count": 86,
   "metadata": {},
   "outputs": [
    {
     "data": {
      "text/plain": [
       "array([[ 2,  3,  4,  5,  6,  7],\n",
       "       [ 8,  9, 10, 11, 12, 13],\n",
       "       [14, 15, 16, 17, 18, 19],\n",
       "       [20, 21, 22, 23, 24, 25]])"
      ]
     },
     "execution_count": 86,
     "metadata": {},
     "output_type": "execute_result"
    }
   ],
   "source": [
    "a"
   ]
  },
  {
   "cell_type": "code",
   "execution_count": 87,
   "metadata": {},
   "outputs": [
    {
     "data": {
      "text/plain": [
       "array([2, 3, 4, 5, 6, 7])"
      ]
     },
     "execution_count": 87,
     "metadata": {},
     "output_type": "execute_result"
    }
   ],
   "source": [
    "a[0]"
   ]
  },
  {
   "cell_type": "code",
   "execution_count": 88,
   "metadata": {},
   "outputs": [
    {
     "data": {
      "text/plain": [
       "2"
      ]
     },
     "execution_count": 88,
     "metadata": {},
     "output_type": "execute_result"
    }
   ],
   "source": [
    "a[0][0]"
   ]
  },
  {
   "cell_type": "code",
   "execution_count": 89,
   "metadata": {},
   "outputs": [
    {
     "data": {
      "text/plain": [
       "array([[2, 3],\n",
       "       [8, 9]])"
      ]
     },
     "execution_count": 89,
     "metadata": {},
     "output_type": "execute_result"
    }
   ],
   "source": [
    "a[0:2,0:2]"
   ]
  },
  {
   "cell_type": "code",
   "execution_count": 101,
   "metadata": {},
   "outputs": [
    {
     "data": {
      "text/plain": [
       "array([[10, 11],\n",
       "       [16, 17]])"
      ]
     },
     "execution_count": 101,
     "metadata": {},
     "output_type": "execute_result"
    }
   ],
   "source": [
    "a[1:3,2:4]"
   ]
  },
  {
   "cell_type": "code",
   "execution_count": 94,
   "metadata": {},
   "outputs": [
    {
     "data": {
      "text/plain": [
       "array([[ 2,  4],\n",
       "       [ 8, 10]])"
      ]
     },
     "execution_count": 94,
     "metadata": {},
     "output_type": "execute_result"
    }
   ],
   "source": [
    "a[0:2,0:3:2]"
   ]
  },
  {
   "cell_type": "code",
   "execution_count": 95,
   "metadata": {},
   "outputs": [
    {
     "data": {
      "text/plain": [
       "array([[[1, 2],\n",
       "        [3, 4]],\n",
       "\n",
       "       [[5, 6],\n",
       "        [7, 8]]])"
      ]
     },
     "execution_count": 95,
     "metadata": {},
     "output_type": "execute_result"
    }
   ],
   "source": [
    "arr3"
   ]
  },
  {
   "cell_type": "code",
   "execution_count": 99,
   "metadata": {},
   "outputs": [
    {
     "data": {
      "text/plain": [
       "array([6, 8])"
      ]
     },
     "execution_count": 99,
     "metadata": {},
     "output_type": "execute_result"
    }
   ],
   "source": [
    "arr3[1,:,1]"
   ]
  },
  {
   "cell_type": "code",
   "execution_count": 100,
   "metadata": {},
   "outputs": [
    {
     "data": {
      "text/plain": [
       "array([3, 4])"
      ]
     },
     "execution_count": 100,
     "metadata": {},
     "output_type": "execute_result"
    }
   ],
   "source": [
    "arr3[0,1,:]"
   ]
  },
  {
   "cell_type": "code",
   "execution_count": 102,
   "metadata": {},
   "outputs": [
    {
     "name": "stdout",
     "output_type": "stream",
     "text": [
      "[2 3 4 5 6 7]\n",
      "[ 8  9 10 11 12 13]\n",
      "[14 15 16 17 18 19]\n",
      "[20 21 22 23 24 25]\n"
     ]
    }
   ],
   "source": [
    "for i in a:\n",
    "    print(i)"
   ]
  },
  {
   "cell_type": "code",
   "execution_count": 104,
   "metadata": {},
   "outputs": [
    {
     "name": "stdout",
     "output_type": "stream",
     "text": [
      "1\n",
      "2\n",
      "3\n",
      "4\n",
      "5\n",
      "6\n",
      "7\n",
      "8\n"
     ]
    }
   ],
   "source": [
    "for i in np.nditer(arr3):\n",
    "    print(i)"
   ]
  },
  {
   "cell_type": "code",
   "execution_count": 105,
   "metadata": {},
   "outputs": [
    {
     "data": {
      "text/plain": [
       "array([[ 2,  3,  4,  5,  6,  7],\n",
       "       [ 8,  9, 10, 11, 12, 13],\n",
       "       [14, 15, 16, 17, 18, 19],\n",
       "       [20, 21, 22, 23, 24, 25]])"
      ]
     },
     "execution_count": 105,
     "metadata": {},
     "output_type": "execute_result"
    }
   ],
   "source": [
    "a"
   ]
  },
  {
   "cell_type": "code",
   "execution_count": 106,
   "metadata": {},
   "outputs": [
    {
     "data": {
      "text/plain": [
       "array([[ 2,  3,  4,  5,  6,  7],\n",
       "       [14, 15, 16, 17, 18, 19],\n",
       "       [20, 21, 22, 23, 24, 25]])"
      ]
     },
     "execution_count": 106,
     "metadata": {},
     "output_type": "execute_result"
    }
   ],
   "source": [
    "a[[0,2,3]]"
   ]
  },
  {
   "cell_type": "code",
   "execution_count": 107,
   "metadata": {},
   "outputs": [
    {
     "data": {
      "text/plain": [
       "array([[ 2,  4,  5],\n",
       "       [ 8, 10, 11],\n",
       "       [14, 16, 17],\n",
       "       [20, 22, 23]])"
      ]
     },
     "execution_count": 107,
     "metadata": {},
     "output_type": "execute_result"
    }
   ],
   "source": [
    "a[:,[0,2,3]]"
   ]
  },
  {
   "cell_type": "code",
   "execution_count": 108,
   "metadata": {},
   "outputs": [
    {
     "data": {
      "text/plain": [
       "array([16, 17, 18, 19, 20, 21, 22, 23, 24, 25])"
      ]
     },
     "execution_count": 108,
     "metadata": {},
     "output_type": "execute_result"
    }
   ],
   "source": [
    "d=a>15\n",
    "a[d]"
   ]
  },
  {
   "cell_type": "code",
   "execution_count": 109,
   "metadata": {},
   "outputs": [],
   "source": [
    "import matplotlib.pyplot as plt"
   ]
  },
  {
   "cell_type": "code",
   "execution_count": 110,
   "metadata": {},
   "outputs": [],
   "source": [
    "x=np.linspace(-50,50,50)"
   ]
  },
  {
   "cell_type": "code",
   "execution_count": 111,
   "metadata": {},
   "outputs": [],
   "source": [
    "y=x*x + 2*x + 4"
   ]
  },
  {
   "cell_type": "code",
   "execution_count": 112,
   "metadata": {},
   "outputs": [
    {
     "data": {
      "text/plain": [
       "[<matplotlib.lines.Line2D at 0x252b3365148>]"
      ]
     },
     "execution_count": 112,
     "metadata": {},
     "output_type": "execute_result"
    },
    {
     "data": {
      "image/png": "[encoded data removed]",
      "text/plain": [
       "<Figure size 432x288 with 1 Axes>"
      ]
     },
     "metadata": {
      "needs_background": "light"
     },
     "output_type": "display_data"
    }
   ],
   "source": [
    "plt.plot(x,y)"
   ]
  },
  {
   "cell_type": "code",
   "execution_count": 113,
   "metadata": {},
   "outputs": [
    {
     "data": {
      "text/plain": [
       "[<matplotlib.lines.Line2D at 0x252b33fdb48>]"
      ]
     },
     "execution_count": 113,
     "metadata": {},
     "output_type": "execute_result"
    },
    {
     "data": {
      "image/png": "[encoded data removed]",
      "text/plain": [
       "<Figure size 432x288 with 1 Axes>"
      ]
     },
     "metadata": {
      "needs_background": "light"
     },
     "output_type": "display_data"
    }
   ],
   "source": [
    "y=np.sin(x)\n",
    "plt.plot(x,y)"
   ]
  },
  {
   "cell_type": "code",
   "execution_count": null,
   "metadata": {},
   "outputs": [],
   "source": []
  }
 ],
 "metadata": {
  "kernelspec": {
   "display_name": "Python 3",
   "language": "python",
   "name": "python3"
  },
  "language_info": {
   "codemirror_mode": {
    "name": "ipython",
    "version": 3
   },
   "file_extension": ".py",
   "mimetype": "text/x-python",
   "name": "python",
   "nbconvert_exporter": "python",
   "pygments_lexer": "ipython3",
   "version": "3.7.4"
  }
 },
 "nbformat": 4,
 "nbformat_minor": 2
}
